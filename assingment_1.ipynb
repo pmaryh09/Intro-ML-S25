{
  "nbformat": 4,
  "nbformat_minor": 0,
  "metadata": {
    "colab": {
      "provenance": [],
      "mount_file_id": "1ngrPm7oNioIn2NLy-4Hi5x_kNaSSb3uy",
      "authorship_tag": "ABX9TyNcjIKlPax4oMHRRwQqVnpc",
      "include_colab_link": true
    },
    "kernelspec": {
      "name": "python3",
      "display_name": "Python 3"
    },
    "language_info": {
      "name": "python"
    }
  },
  "cells": [
    {
      "cell_type": "markdown",
      "metadata": {
        "id": "view-in-github",
        "colab_type": "text"
      },
      "source": [
        "<a href=\"https://colab.research.google.com/github/pmaryh09/Intro-ML-S25/blob/main/assingment_1.ipynb\" target=\"_parent\"><img src=\"https://colab.research.google.com/assets/colab-badge.svg\" alt=\"Open In Colab\"/></a>"
      ]
    },
    {
      "cell_type": "markdown",
      "source": [
        "**Name:** Maritza Perez\n",
        "**Student id:** 801203851\n",
        "**Assignment 1**"
      ],
      "metadata": {
        "id": "tadqImOHe9bB"
      }
    },
    {
      "cell_type": "markdown",
      "source": [
        "**Problem 1**"
      ],
      "metadata": {
        "id": "XQKMGY6Rfl7V"
      }
    },
    {
      "cell_type": "code",
      "execution_count": 48,
      "metadata": {
        "id": "byuUzcHdOw-6"
      },
      "outputs": [],
      "source": [
        "import numpy as np\n",
        "import pandas as pd\n",
        "import matplotlib.pyplot as plt\n",
        "from IPython.display import display\n",
        "\n",
        "site = \"https://raw.githubusercontent.com/pmaryh09/Intro-ML-S25/refs/heads/main/D3.csv\"\n",
        "df = pd.read_csv(site)\n"
      ]
    },
    {
      "cell_type": "code",
      "source": [
        "x1=df.values[:,0]\n",
        "x2=df.values[:,1]\n",
        "x3=df.values[:,2]\n",
        "Y=df.values[:,3]\n",
        "\n",
        "m = len(Y)  #num of traning examples\n",
        "\n",
        "x0 = np.ones((m,1))\n",
        "X1 = np.hstack((x0,x1.reshape(m,1)))\n",
        "X2 = np.hstack((x0,x2.reshape(m,1)))\n",
        "X3 = np.hstack((x0,x3.reshape(m,1)))\n",
        "\n",
        "iterations = 1500\n",
        "alpha = [0.01, 0.05, 0.10] #learning rates"
      ],
      "metadata": {
        "id": "gtc_K9-YjRI4"
      },
      "execution_count": 44,
      "outputs": []
    },
    {
      "cell_type": "code",
      "source": [
        "def costFunc(X, y, theta):\n",
        "  m = len(y)\n",
        "  predictions = X.dot(theta)\n",
        "  errors = np.subtract(predictions,y)\n",
        "  sqrErrors = np.square(errors)\n",
        "  J = 1 / (2*m) * np.sum(sqrErrors)\n",
        "  return J\n",
        "\n",
        "# Gradient Descent Function\n",
        "def gradient_descent(X,y,alpha,iterations):\n",
        "    m=len(y)\n",
        "    theta=np.zeros(X.shape[1])\n",
        "    cost_history=np.zeros(iterations)\n",
        "\n",
        "    for i in range(iterations):\n",
        "        predictions=X.dot(theta)\n",
        "        errors=np.subtract(predictions,y)\n",
        "        sum_delta=(alpha / m) * X.transpose().dot(errors)\n",
        "        theta -= sum_delta\n",
        "        cost_history[i]=costFunc(X,y,theta)\n",
        "\n",
        "    return theta, cost_history\n",
        "\n",
        ""
      ],
      "metadata": {
        "id": "cT7fvluttPp9"
      },
      "execution_count": 45,
      "outputs": []
    },
    {
      "cell_type": "code",
      "source": [
        "def computeGradientDescentAlphas(X, y, alphas, iterations, name=\"Model\"):\n",
        "    thetas = []\n",
        "    cost_histories = []\n",
        "    results = []  # List to store results for table creation\n",
        "\n",
        "    # Perform gradient descent for each learning rate\n",
        "    for a in alphas:\n",
        "        final_theta, cost_history = gradient_descent(X, y, a, iterations)\n",
        "        thetas.append(final_theta)\n",
        "        cost_histories.append(cost_history)\n",
        "        results.append(\n",
        "            {\n",
        "                \"Model\": name,\n",
        "                \"Alpha\": a,\n",
        "                \"Thetas\": final_theta,\n",
        "                \"Final Cost\": cost_history[-1],\n",
        "            }\n",
        "        )\n",
        "\n",
        "    # Create and display the table\n",
        "    df_results = pd.DataFrame(results)\n",
        "    print(f\"Results for {name}:\\n\")\n",
        "    print(df_results)\n",
        "\n",
        "    return thetas, cost_histories"
      ],
      "metadata": {
        "id": "LzBjxhjIuXl5"
      },
      "execution_count": 46,
      "outputs": []
    },
    {
      "cell_type": "code",
      "source": [
        "def funcPlot(X,Y,alpha,thetas,cost_histories,iterations,name=\"\"):\n",
        "    plt.figure(figsize=(9,4))\n",
        "\n",
        "    # Plot training data and regression lines\n",
        "    plt.subplot(1,2,1)\n",
        "    plt.scatter(X[:,1],Y,color='red',marker='+',label='Training Data')\n",
        "\n",
        "    # Plot regression lines for different alphas\n",
        "    for i in range(len(alpha)):\n",
        "        plt.plot(X[:,1],X.dot(thetas[i]),label=f'Regression for {alpha[i]}')\n",
        "\n",
        "    plt.grid(True)\n",
        "    plt.legend()\n",
        "    plt.title(f'Linear Model for {name}')\n",
        "    plt.xlabel('Input Feature (X)')\n",
        "    plt.ylabel('Target Variable (Y)')\n",
        "\n",
        "    # Plot cost histories for different alphas\n",
        "    plt.subplot(1,2,2)\n",
        "    for i in range(len(alpha)):\n",
        "        plt.plot(range(1,len(cost_histories[i]) + 1),cost_histories[i],label=f'Alpha={alpha[i]}')\n",
        "\n",
        "    plt.grid(True)\n",
        "    plt.legend()\n",
        "    plt.title(f'Gradient Descent Cost History for {name}')\n",
        "    plt.xlabel('Iterations')\n",
        "    plt.ylabel('Cost')\n",
        "\n",
        "    plt.tight_layout()\n",
        "    plt.show()"
      ],
      "metadata": {
        "id": "JR9S85Hmw6hh"
      },
      "execution_count": 49,
      "outputs": []
    }
  ]
}